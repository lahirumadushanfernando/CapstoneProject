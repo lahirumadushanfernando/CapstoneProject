{
 "cells": [
  {
   "cell_type": "markdown",
   "metadata": {},
   "source": [
    "# Problem description and background"
   ]
  },
  {
   "cell_type": "markdown",
   "metadata": {},
   "source": [
    "As far as we discussed in this capstone project is to find neighborhoods to distinguish which are similar or not.<br>\n",
    "In other words, simply to explore better facilities around their neighborhood. <br>\n",
    "With the help of location data and analysis it will help people making smart and efficient decision on selecting great neighborhood out of numbers of other neighborhoods in Scarborough, Toranto.<br>\n",
    "Lots of people are migrating to various states of Canada and needed lots of research for good housing prices and reputated schools for their children.<br>\n",
    "This project is for those people who are looking for better neighborhoods. <br>\n",
    "For ease of accessing to Cafe, School, Super market, medical shops, grocery shops, mall, theatre, hospital, like minded people, etc.<br>\n",
    "This Capstone Project aim to create an analysis of features for a people migrating to Scarborough to search a best neighborhood as a comparative analysis between neighborhoods.<br> \n",
    "The features include median housing price and better school according to ratings, crime rates of that particular area, road<br> connectivity, weather conditions,<br>\n",
    "good management for emergency, water resources both freash and waste water and excrement conveyed in sewers and <br>recreational facilities.<br>\n",
    "It will help people to get awareness of the area and neighborhood before moving to a new city, state, country or place for <br>their work or to start a new fresh life.\n"
   ]
  },
  {
   "cell_type": "markdown",
   "metadata": {},
   "source": [
    "# Data Section"
   ]
  },
  {
   "cell_type": "markdown",
   "metadata": {},
   "source": [
    "Data Link: https://en.wikipedia.org/wiki/List_of_postal_codes_of_Canada:_M<br>\n",
    "\n",
    "We have used Scarborough dataset which we scrapped from wikipedia. Dataset consisting of latitude and longitude, zip codes.<br>\n",
    "\n",
    "Foursquare API Data:<br>\n",
    "    \n",
    "We will need data about different venues in different neighborhoods of that specific borough.<br>\n",
    "In order to gain that information we will use “Foursquare” locational information. <br>\n",
    "Foursquare is a location data provider with information about all manner of venues and events within an area of interest.<br> \n",
    "Such information includes venue names, locations, menus and even photos. <br>\n",
    "As such, the foursquare location platform will be used as the sole data source since all the stated required information <br>can be obtained through the API.<br>\n",
    "\n",
    "After finding the list of neighborhoods, we then connect to the Foursquare API to gather information about venues inside <br>\n",
    "each and every neighborhood. <br>\n",
    "For each neighborhood, we have chosen the radius to be 100 meter.<br>\n",
    "\n",
    "The data retrieved from Foursquare contained information of venues within a specified distance of the longitude and<br> latitude of the postcodes. <br>\n",
    "The information obtained per venue as follows:<br>\n",
    "    \n",
    "1. Neighborhood\n",
    "2. Neighborhood Latitude\n",
    "3. Neighborhood Longitude\n",
    "4. Venue\n",
    "5. Name of the venue e.g. the name of a store or restaurant\n",
    "6. Venue Latitude\n",
    "7. Venue Longitude\n",
    "8. Venue Category"
   ]
  },
  {
   "cell_type": "code",
   "execution_count": null,
   "metadata": {},
   "outputs": [],
   "source": []
  }
 ],
 "metadata": {
  "kernelspec": {
   "display_name": "Python 3",
   "language": "python",
   "name": "python3"
  },
  "language_info": {
   "codemirror_mode": {
    "name": "ipython",
    "version": 3
   },
   "file_extension": ".py",
   "mimetype": "text/x-python",
   "name": "python",
   "nbconvert_exporter": "python",
   "pygments_lexer": "ipython3",
   "version": "3.7.6"
  }
 },
 "nbformat": 4,
 "nbformat_minor": 4
}
